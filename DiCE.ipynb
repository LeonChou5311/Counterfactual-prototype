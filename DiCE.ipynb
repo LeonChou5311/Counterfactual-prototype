{
 "metadata": {
  "language_info": {
   "codemirror_mode": {
    "name": "ipython",
    "version": 3
   },
   "file_extension": ".py",
   "mimetype": "text/x-python",
   "name": "python",
   "nbconvert_exporter": "python",
   "pygments_lexer": "ipython3",
   "version": "3.8.10"
  },
  "orig_nbformat": 2,
  "kernelspec": {
   "name": "python3810jvsc74a57bd05c622353f32ef24c8d83e5c3e334107c074e82d7c3e8ca52c56b9fc900ce33e6",
   "display_name": "Python 3.8.10 64-bit ('tf_mac': conda)"
  },
  "metadata": {
   "interpreter": {
    "hash": "5c622353f32ef24c8d83e5c3e334107c074e82d7c3e8ca52c56b9fc900ce33e6"
   }
  }
 },
 "nbformat": 4,
 "nbformat_minor": 2,
 "cells": [
  {
   "cell_type": "code",
   "execution_count": 1,
   "metadata": {},
   "outputs": [],
   "source": [
    "import tensorflow as tf\n",
    "import dice_ml\n",
    "import pandas as pd\n",
    "from learning import *\n",
    "from time import time"
   ]
  },
  {
   "cell_type": "code",
   "execution_count": 2,
   "metadata": {},
   "outputs": [
    {
     "output_type": "stream",
     "name": "stdout",
     "text": [
      "Loading training data...\n====================Features====================\n['Pregnancies', 'Glucose', 'BloodPressure', 'SkinThickness', 'Insulin', 'BMI', 'DiabetesPedigreeFunction', 'Age']\n================================================\n"
     ]
    }
   ],
   "source": [
    "# Giving current root path\n",
    "PATH = \"./\"\n",
    "\n",
    "# name of dataset\n",
    "DATASET_NAME = \"diabetes.csv\"\n",
    "\n",
    "# variable containing the class labels in this case the dataset contains:\n",
    "# 0 - if not diabetes\n",
    "# 1 - if diabetes\n",
    "class_var = \"Outcome\"\n",
    "\n",
    "# load dataset\n",
    "dataset_path = PATH + \"datasets/\" + DATASET_NAME\n",
    "data = pd.read_csv( dataset_path )\n",
    "\n",
    "# features\n",
    "feature_names = data.drop([class_var], axis=1).columns.to_list()\n",
    "\n",
    "# balance dataset\n",
    "sampled_data = data.sample(frac=1)\n",
    "sampled_data = sampled_data[ sampled_data[\"Outcome\"] == 0]\n",
    "\n",
    "no_data = sampled_data.sample(frac=1)[0:268]\n",
    "yes_data = data[ data[\"Outcome\"] == 1]\n",
    "\n",
    "balanced_data = [no_data,yes_data]\n",
    "balanced_data = pd.concat(balanced_data)\n",
    "\n",
    "# apply one hot encoder to data\n",
    "# standardize the input between 0 and 1\n",
    "X, Y, encoder, scaler = encode_data( balanced_data, class_var)\n",
    "\n",
    "n_features = X.shape[1]\n",
    "n_classes = len(data[class_var].unique())\n",
    "\n",
    "# load existing training data\n",
    "print(\"Loading training data...\")\n",
    "X_train, Y_train, X_test, Y_test, X_validation, Y_validation= load_training_data( dataset_path )\n",
    "\n",
    "print(\"====================Features====================\")\n",
    "print(feature_names)\n",
    "print(\"================================================\")"
   ]
  },
  {
   "cell_type": "code",
   "execution_count": 3,
   "metadata": {},
   "outputs": [
    {
     "output_type": "stream",
     "name": "stdout",
     "text": [
      "Loading Blackbox model...\nLoaded model from disk\nModel: \"model_h5_N12\"\n_________________________________________________________________\nLayer (type)                 Output Shape              Param #   \n=================================================================\ndense_293 (Dense)            (None, 12)                108       \n_________________________________________________________________\ndense_294 (Dense)            (None, 12)                156       \n_________________________________________________________________\ndense_295 (Dense)            (None, 12)                156       \n_________________________________________________________________\ndense_296 (Dense)            (None, 12)                156       \n_________________________________________________________________\ndense_297 (Dense)            (None, 12)                156       \n_________________________________________________________________\ndense_298 (Dense)            (None, 12)                156       \n_________________________________________________________________\ndense_299 (Dense)            (None, 2)                 26        \n=================================================================\nTotal params: 914\nTrainable params: 914\nNon-trainable params: 0\n_________________________________________________________________\n"
     ]
    }
   ],
   "source": [
    "# the best performing model was obtained with 5 hidden layers with 12 neurons each\n",
    "model_name = \"model_h5_N12\"\n",
    "\n",
    "# specify paths where the blackbox model was saved\n",
    "path_serialisation_model = PATH + \"training/\" + DATASET_NAME.replace(\".csv\", \"\") + \"/model/\" \n",
    "path_serialisation_histr = PATH + \"training/\" + DATASET_NAME.replace(\".csv\", \"\") + \"/history/\" \n",
    "\n",
    "# load model and model performance history\n",
    "print(\"Loading Blackbox model...\")\n",
    "model_history = load_model_history( model_name, path_serialisation_histr )\n",
    "model = load_model( model_name, path_serialisation_model )\n",
    "\n",
    "# check modelxw\n",
    "model.summary()"
   ]
  },
  {
   "cell_type": "code",
   "execution_count": 4,
   "metadata": {},
   "outputs": [],
   "source": [
    "class FirstValue(tf.keras.layers.Layer):\n",
    "    def __init__(self,):\n",
    "        super(FirstValue, self).__init__()\n",
    "\n",
    "    def call(self, inputs):\n",
    "        return inputs[:, :1]"
   ]
  },
  {
   "cell_type": "code",
   "execution_count": 5,
   "metadata": {},
   "outputs": [],
   "source": [
    "target_name = \"Outcome\"\n",
    "feature_names = list(balanced_data.columns)\n",
    "feature_names.remove(target_name)"
   ]
  },
  {
   "cell_type": "code",
   "execution_count": 6,
   "metadata": {},
   "outputs": [],
   "source": [
    "d = dice_ml.Data(dataframe=balanced_data, continuous_features=feature_names, outcome_name=target_name)"
   ]
  },
  {
   "cell_type": "code",
   "execution_count": 7,
   "metadata": {},
   "outputs": [
    {
     "output_type": "stream",
     "name": "stdout",
     "text": [
      "WARNING:tensorflow:AutoGraph could not transform <bound method FirstValue.call of <__main__.FirstValue object at 0x167415be0>> and will run it as-is.\n",
      "Please report this to the TensorFlow team. When filing the bug, set the verbosity to 10 (on Linux, `export AUTOGRAPH_VERBOSITY=10`) and attach the full output.\n",
      "Cause: module 'gast' has no attribute 'Index'\n",
      "To silence this warning, decorate the function with @tf.autograph.experimental.do_not_convert\n",
      "WARNING: AutoGraph could not transform <bound method FirstValue.call of <__main__.FirstValue object at 0x167415be0>> and will run it as-is.\n",
      "Please report this to the TensorFlow team. When filing the bug, set the verbosity to 10 (on Linux, `export AUTOGRAPH_VERBOSITY=10`) and attach the full output.\n",
      "Cause: module 'gast' has no attribute 'Index'\n",
      "To silence this warning, decorate the function with @tf.autograph.experimental.do_not_convert\n"
     ]
    }
   ],
   "source": [
    "seq = tf.keras.Sequential(\n",
    "    [model,\n",
    "    FirstValue(),]\n",
    ")"
   ]
  },
  {
   "cell_type": "code",
   "execution_count": 8,
   "metadata": {},
   "outputs": [],
   "source": [
    "m = dice_ml.Model(model=seq, backend=\"TF2\")"
   ]
  },
  {
   "source": [
    "test_df = pd.DataFrame(X_test, columns=feature_names)\n",
    "example_idx = 2 ## Change me!!\n",
    "example_data = test_df.iloc[example_idx:example_idx+6]"
   ],
   "cell_type": "code",
   "metadata": {},
   "execution_count": 12,
   "outputs": []
  },
  {
   "cell_type": "code",
   "execution_count": 14,
   "metadata": {},
   "outputs": [
    {
     "output_type": "stream",
     "name": "stderr",
     "text": [
      "WARNING:root: MAD for feature Insulin is 0, so replacing it with 1.0 to avoid error.\n",
      "Only 3 (required 4)  Diverse Counterfactuals found for the given configuation, perhaps try with different values of proximity (or diversity) weights or learning rate... ; total time taken: 04 min 33 sec\n"
     ]
    }
   ],
   "source": [
    "exp = dice_ml.Dice(d, m)\n",
    "dice_exp = exp.generate_counterfactuals(example_data, total_CFs=4, desired_class=\"opposite\", proximity_weight= 0.1, diversity_weight=2)"
   ]
  },
  {
   "cell_type": "code",
   "execution_count": 15,
   "metadata": {},
   "outputs": [
    {
     "output_type": "stream",
     "name": "stdout",
     "text": [
      "Query instance (original outcome : 1)\n"
     ]
    },
    {
     "output_type": "display_data",
     "data": {
      "text/plain": "   Pregnancies  Glucose  BloodPressure  SkinThickness  Insulin  BMI  \\\n0          0.0      1.0            1.0            0.0      0.0  0.4   \n1          0.0      1.0            1.0            0.0      0.0  0.5   \n2          0.0      1.0            0.0            0.0      0.0  0.4   \n3          0.0      1.0            1.0            0.0      0.0  0.4   \n4          1.0      1.0            1.0            0.0      0.0  0.3   \n5          0.0      1.0            1.0            0.0      0.0  0.6   \n\n   DiabetesPedigreeFunction  Age  Outcome  \n0                     0.048  0.0    0.925  \n1                     0.272  0.0    0.925  \n2                     0.232  0.0    0.925  \n3                     0.238  0.0    0.925  \n4                     0.069  1.0    0.925  \n5                     0.185  0.0    0.925  ",
      "text/html": "<div>\n<style scoped>\n    .dataframe tbody tr th:only-of-type {\n        vertical-align: middle;\n    }\n\n    .dataframe tbody tr th {\n        vertical-align: top;\n    }\n\n    .dataframe thead th {\n        text-align: right;\n    }\n</style>\n<table border=\"1\" class=\"dataframe\">\n  <thead>\n    <tr style=\"text-align: right;\">\n      <th></th>\n      <th>Pregnancies</th>\n      <th>Glucose</th>\n      <th>BloodPressure</th>\n      <th>SkinThickness</th>\n      <th>Insulin</th>\n      <th>BMI</th>\n      <th>DiabetesPedigreeFunction</th>\n      <th>Age</th>\n      <th>Outcome</th>\n    </tr>\n  </thead>\n  <tbody>\n    <tr>\n      <th>0</th>\n      <td>0.0</td>\n      <td>1.0</td>\n      <td>1.0</td>\n      <td>0.0</td>\n      <td>0.0</td>\n      <td>0.4</td>\n      <td>0.048</td>\n      <td>0.0</td>\n      <td>0.925</td>\n    </tr>\n    <tr>\n      <th>1</th>\n      <td>0.0</td>\n      <td>1.0</td>\n      <td>1.0</td>\n      <td>0.0</td>\n      <td>0.0</td>\n      <td>0.5</td>\n      <td>0.272</td>\n      <td>0.0</td>\n      <td>0.925</td>\n    </tr>\n    <tr>\n      <th>2</th>\n      <td>0.0</td>\n      <td>1.0</td>\n      <td>0.0</td>\n      <td>0.0</td>\n      <td>0.0</td>\n      <td>0.4</td>\n      <td>0.232</td>\n      <td>0.0</td>\n      <td>0.925</td>\n    </tr>\n    <tr>\n      <th>3</th>\n      <td>0.0</td>\n      <td>1.0</td>\n      <td>1.0</td>\n      <td>0.0</td>\n      <td>0.0</td>\n      <td>0.4</td>\n      <td>0.238</td>\n      <td>0.0</td>\n      <td>0.925</td>\n    </tr>\n    <tr>\n      <th>4</th>\n      <td>1.0</td>\n      <td>1.0</td>\n      <td>1.0</td>\n      <td>0.0</td>\n      <td>0.0</td>\n      <td>0.3</td>\n      <td>0.069</td>\n      <td>1.0</td>\n      <td>0.925</td>\n    </tr>\n    <tr>\n      <th>5</th>\n      <td>0.0</td>\n      <td>1.0</td>\n      <td>1.0</td>\n      <td>0.0</td>\n      <td>0.0</td>\n      <td>0.6</td>\n      <td>0.185</td>\n      <td>0.0</td>\n      <td>0.925</td>\n    </tr>\n  </tbody>\n</table>\n</div>"
     },
     "metadata": {}
    },
    {
     "output_type": "stream",
     "name": "stdout",
     "text": [
      "\nDiverse Counterfactual set (new outcome: 0.0)\n"
     ]
    },
    {
     "output_type": "display_data",
     "data": {
      "text/plain": "  Pregnancies Glucose BloodPressure SkinThickness Insulin  BMI  \\\n0           -   137.0             -             -   287.0  8.6   \n1           -    99.0             -          20.0   758.0  2.0   \n2           -   199.0             -           4.0    39.0    -   \n\n  DiabetesPedigreeFunction   Age Outcome  \n0                     0.22  27.0     0.0  \n1                    0.232  42.0     0.0  \n2     0.048999999999999974  21.0     0.0  ",
      "text/html": "<div>\n<style scoped>\n    .dataframe tbody tr th:only-of-type {\n        vertical-align: middle;\n    }\n\n    .dataframe tbody tr th {\n        vertical-align: top;\n    }\n\n    .dataframe thead th {\n        text-align: right;\n    }\n</style>\n<table border=\"1\" class=\"dataframe\">\n  <thead>\n    <tr style=\"text-align: right;\">\n      <th></th>\n      <th>Pregnancies</th>\n      <th>Glucose</th>\n      <th>BloodPressure</th>\n      <th>SkinThickness</th>\n      <th>Insulin</th>\n      <th>BMI</th>\n      <th>DiabetesPedigreeFunction</th>\n      <th>Age</th>\n      <th>Outcome</th>\n    </tr>\n  </thead>\n  <tbody>\n    <tr>\n      <th>0</th>\n      <td>-</td>\n      <td>137.0</td>\n      <td>-</td>\n      <td>-</td>\n      <td>287.0</td>\n      <td>8.6</td>\n      <td>0.22</td>\n      <td>27.0</td>\n      <td>0.0</td>\n    </tr>\n    <tr>\n      <th>1</th>\n      <td>-</td>\n      <td>99.0</td>\n      <td>-</td>\n      <td>20.0</td>\n      <td>758.0</td>\n      <td>2.0</td>\n      <td>0.232</td>\n      <td>42.0</td>\n      <td>0.0</td>\n    </tr>\n    <tr>\n      <th>2</th>\n      <td>-</td>\n      <td>199.0</td>\n      <td>-</td>\n      <td>4.0</td>\n      <td>39.0</td>\n      <td>-</td>\n      <td>0.048999999999999974</td>\n      <td>21.0</td>\n      <td>0.0</td>\n    </tr>\n  </tbody>\n</table>\n</div>"
     },
     "metadata": {}
    }
   ],
   "source": [
    "dice_exp.visualize_as_dataframe(show_only_changes=True)"
   ]
  },
  {
   "cell_type": "code",
   "execution_count": null,
   "metadata": {},
   "outputs": [],
   "source": []
  }
 ]
}