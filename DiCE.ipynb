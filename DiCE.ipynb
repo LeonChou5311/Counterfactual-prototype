{
 "cells": [
  {
   "cell_type": "markdown",
   "id": "promising-parliament",
   "metadata": {},
   "source": [
    "## Diverse Counterfactual Explanations (DiCE) for ML\n",
    "https://github.com/interpretml/DiCE"
   ]
  },
  {
   "cell_type": "markdown",
   "id": "interested-drove",
   "metadata": {},
   "source": [
    "Installing DICE"
   ]
  },
  {
   "cell_type": "markdown",
   "id": "hairy-progressive",
   "metadata": {},
   "source": [
    "To install the latest (dev) version of DiCE and its dependencies, clone this repo and run pip install from the top-most folder of the repo:"
   ]
  },
  {
   "cell_type": "code",
   "execution_count": 6,
   "id": "neutral-rhythm",
   "metadata": {},
   "outputs": [
    {
     "name": "stdout",
     "output_type": "stream",
     "text": [
      "Requirement already satisfied: dice-ml in /opt/conda/lib/python3.8/site-packages (0.6.1)\n",
      "Requirement already satisfied: pandas in /opt/conda/lib/python3.8/site-packages (from dice-ml) (1.2.3)\n",
      "Requirement already satisfied: h5py in /opt/conda/lib/python3.8/site-packages (from dice-ml) (3.1.0)\n",
      "Requirement already satisfied: tqdm in /opt/conda/lib/python3.8/site-packages (from dice-ml) (4.58.0)\n",
      "Requirement already satisfied: numpy in /opt/conda/lib/python3.8/site-packages (from dice-ml) (1.20.1)\n",
      "Requirement already satisfied: scikit-learn in /opt/conda/lib/python3.8/site-packages (from dice-ml) (0.24.1)\n",
      "Requirement already satisfied: python-dateutil>=2.7.3 in /opt/conda/lib/python3.8/site-packages (from pandas->dice-ml) (2.8.1)\n",
      "Requirement already satisfied: pytz>=2017.3 in /opt/conda/lib/python3.8/site-packages (from pandas->dice-ml) (2021.1)\n",
      "Requirement already satisfied: six>=1.5 in /opt/conda/lib/python3.8/site-packages (from python-dateutil>=2.7.3->pandas->dice-ml) (1.15.0)\n",
      "Requirement already satisfied: scipy>=0.19.1 in /opt/conda/lib/python3.8/site-packages (from scikit-learn->dice-ml) (1.6.0)\n",
      "Requirement already satisfied: joblib>=0.11 in /opt/conda/lib/python3.8/site-packages (from scikit-learn->dice-ml) (1.0.1)\n",
      "Requirement already satisfied: threadpoolctl>=2.0.0 in /opt/conda/lib/python3.8/site-packages (from scikit-learn->dice-ml) (2.1.0)\n",
      "Note: you may need to restart the kernel to use updated packages.\n"
     ]
    }
   ],
   "source": [
    "pip install dice-ml"
   ]
  },
  {
   "cell_type": "code",
   "execution_count": 7,
   "id": "intended-intro",
   "metadata": {},
   "outputs": [
    {
     "name": "stdout",
     "output_type": "stream",
     "text": [
      "\n",
      "Usage:   \n",
      "  /opt/conda/bin/python -m pip install [options] <requirement specifier> [package-index-options] ...\n",
      "  /opt/conda/bin/python -m pip install [options] -r <requirements file> [package-index-options] ...\n",
      "  /opt/conda/bin/python -m pip install [options] [-e] <vcs project url> ...\n",
      "  /opt/conda/bin/python -m pip install [options] [-e] <local project path> ...\n",
      "  /opt/conda/bin/python -m pip install [options] <archive url/path> ...\n",
      "\n",
      "-e option requires 1 argument\n",
      "Note: you may need to restart the kernel to use updated packages.\n"
     ]
    }
   ],
   "source": [
    "pip install -e"
   ]
  },
  {
   "cell_type": "code",
   "execution_count": 8,
   "id": "white-rhythm",
   "metadata": {},
   "outputs": [],
   "source": [
    "#pip install -r requirements.txt\n",
    "# Additional dependendies for deep learning models\n",
    "#pip install -r requirements-deeplearning.txt\n",
    "# For running unit tests\n",
    "#pip install -r requirements-test.txt"
   ]
  },
  {
   "cell_type": "markdown",
   "id": "young-curtis",
   "metadata": {},
   "source": [
    "## Load data"
   ]
  },
  {
   "cell_type": "code",
   "execution_count": 10,
   "id": "compatible-grammar",
   "metadata": {},
   "outputs": [
    {
     "ename": "NameError",
     "evalue": "name 'encode_data' is not defined",
     "output_type": "error",
     "traceback": [
      "\u001b[0;31m---------------------------------------------------------------------------\u001b[0m",
      "\u001b[0;31mNameError\u001b[0m                                 Traceback (most recent call last)",
      "\u001b[0;32m<ipython-input-10-6151abb6d004>\u001b[0m in \u001b[0;36m<module>\u001b[0;34m\u001b[0m\n\u001b[1;32m     30\u001b[0m \u001b[0;31m# apply one hot encoder to data\u001b[0m\u001b[0;34m\u001b[0m\u001b[0;34m\u001b[0m\u001b[0;34m\u001b[0m\u001b[0m\n\u001b[1;32m     31\u001b[0m \u001b[0;31m# standardize the input between 0 and 1\u001b[0m\u001b[0;34m\u001b[0m\u001b[0;34m\u001b[0m\u001b[0;34m\u001b[0m\u001b[0m\n\u001b[0;32m---> 32\u001b[0;31m \u001b[0mX\u001b[0m\u001b[0;34m,\u001b[0m \u001b[0mY\u001b[0m\u001b[0;34m,\u001b[0m \u001b[0mencoder\u001b[0m\u001b[0;34m,\u001b[0m \u001b[0mscaler\u001b[0m \u001b[0;34m=\u001b[0m \u001b[0mencode_data\u001b[0m\u001b[0;34m(\u001b[0m \u001b[0mbalanced_data\u001b[0m\u001b[0;34m,\u001b[0m \u001b[0mclass_var\u001b[0m\u001b[0;34m)\u001b[0m\u001b[0;34m\u001b[0m\u001b[0;34m\u001b[0m\u001b[0m\n\u001b[0m\u001b[1;32m     33\u001b[0m \u001b[0;34m\u001b[0m\u001b[0m\n\u001b[1;32m     34\u001b[0m \u001b[0mn_features\u001b[0m \u001b[0;34m=\u001b[0m \u001b[0mX\u001b[0m\u001b[0;34m.\u001b[0m\u001b[0mshape\u001b[0m\u001b[0;34m[\u001b[0m\u001b[0;36m1\u001b[0m\u001b[0;34m]\u001b[0m\u001b[0;34m\u001b[0m\u001b[0;34m\u001b[0m\u001b[0m\n",
      "\u001b[0;31mNameError\u001b[0m: name 'encode_data' is not defined"
     ]
    }
   ],
   "source": [
    "import pandas as pd\n",
    "# Giving current root path\n",
    "PATH = \"./\"\n",
    "\n",
    "# name of dataset\n",
    "DATASET_NAME = \"diabetes.csv\"\n",
    "\n",
    "# variable containing the class labels in this case the dataset contains:\n",
    "# 0 - if not diabetes\n",
    "# 1 - if diabetes\n",
    "class_var = \"Outcome\"\n",
    "\n",
    "# load dataset\n",
    "dataset_path = PATH + \"datasets/\" + DATASET_NAME\n",
    "data = pd.read_csv( dataset_path )\n",
    "\n",
    "# features\n",
    "feature_names = data.drop([class_var], axis=1).columns.to_list()\n",
    "\n",
    "# balance dataset\n",
    "sampled_data = data.sample(frac=1)\n",
    "sampled_data = sampled_data[ sampled_data[\"Outcome\"] == 0]\n",
    "\n",
    "no_data = sampled_data.sample(frac=1)[0:268]\n",
    "yes_data = data[ data[\"Outcome\"] == 1]\n",
    "\n",
    "balanced_data = [no_data,yes_data]\n",
    "balanced_data = pd.concat(balanced_data)\n",
    "\n",
    "# apply one hot encoder to data\n",
    "# standardize the input between 0 and 1\n",
    "X, Y, encoder, scaler = encode_data( balanced_data, class_var)\n",
    "\n",
    "n_features = X.shape[1]\n",
    "n_classes = len(data[class_var].unique())\n",
    "\n",
    "# load existing training data\n",
    "print(\"Loading training data...\")\n",
    "X_train, Y_train, X_test, Y_test, X_validation, Y_validation= load_training_data( dataset_path )\n",
    "\n",
    "print(\"====================Features====================\")\n",
    "print(feature_names)\n",
    "print(\"================================================\")"
   ]
  },
  {
   "cell_type": "markdown",
   "id": "three-butter",
   "metadata": {},
   "source": [
    "## Load trained model"
   ]
  },
  {
   "cell_type": "code",
   "execution_count": null,
   "id": "thousand-legislature",
   "metadata": {},
   "outputs": [],
   "source": [
    "# the best performing model was obtained with 5 hidden layers with 12 neurons each\n",
    "model_name = \"model_h5_N12\"\n",
    "\n",
    "# specify paths where the blackbox model was saved\n",
    "path_serialisation_model = PATH + \"training/\" + DATASET_NAME.replace(\".csv\", \"\") + \"/model/\" \n",
    "path_serialisation_histr = PATH + \"training/\" + DATASET_NAME.replace(\".csv\", \"\") + \"/history/\" \n",
    "\n",
    "# load model and model performance history\n",
    "print(\"Loading Blackbox model...\")\n",
    "model_history = load_model_history( model_name, path_serialisation_histr )\n",
    "model = load_model( model_name, path_serialisation_model )\n",
    "\n",
    "# check modelxw\n",
    "model.summary()"
   ]
  },
  {
   "cell_type": "code",
   "execution_count": null,
   "id": "blocked-alignment",
   "metadata": {},
   "outputs": [],
   "source": [
    "## Dentermine the feature range by training set.\n",
    "diabetes_feature_range = (X_train.min(axis=0), X_train.max(axis=0))"
   ]
  },
  {
   "cell_type": "code",
   "execution_count": null,
   "id": "valid-international",
   "metadata": {},
   "outputs": [],
   "source": [
    "## Get an example instance from test set.\n",
    "example_idx = 5 ## Could be change!!\n",
    "example_data = np.expand_dims(X_test[example_idx], axis=0)"
   ]
  },
  {
   "cell_type": "markdown",
   "id": "floppy-poster",
   "metadata": {},
   "source": [
    "## Getting started with DiCE"
   ]
  },
  {
   "cell_type": "markdown",
   "id": "desperate-pilot",
   "metadata": {},
   "source": [
    "With DiCE, generating explanations is a simple three-step process: train mode and then invoke DiCE to generate counterfactual examples for any input."
   ]
  },
  {
   "cell_type": "code",
   "execution_count": null,
   "id": "prepared-chapel",
   "metadata": {},
   "outputs": [],
   "source": [
    "import dice_ml\n",
    "from dice_ml.utils import helpers # helper functions\n",
    "# Dataset for training an ML model\n",
    "d = dice_ml.Data(dataframe=helpers.load_adult_income_dataset(),\n",
    "                 continuous_features=['age', 'hours_per_week'],\n",
    "                 outcome_name='income')\n",
    "# Pre-trained ML model\n",
    "m = dice_ml.Model(model_path=dice_ml.utils.helpers.get_adult_income_modelpath())\n",
    "# DiCE explanation instance\n",
    "exp = dice_ml.Dice(d,m)"
   ]
  },
  {
   "cell_type": "markdown",
   "id": "detailed-sewing",
   "metadata": {},
   "source": [
    "For any given input, we can now generate counterfactual explanations. For example, the following input leads to class 0 (low income)."
   ]
  },
  {
   "cell_type": "code",
   "execution_count": null,
   "id": "alike-minnesota",
   "metadata": {},
   "outputs": [],
   "source": [
    "query_instance = {'age':22,\n",
    "    'workclass':'Private',\n",
    "    'education':'HS-grad',\n",
    "    'marital_status':'Single',\n",
    "    'occupation':'Service',\n",
    "    'race': 'White',\n",
    "    'gender':'Female',\n",
    "    'hours_per_week': 45}"
   ]
  },
  {
   "cell_type": "markdown",
   "id": "taken-swimming",
   "metadata": {},
   "source": [
    "Using DiCE, we can now generate examples that would have been classified as class 1 (high income)."
   ]
  },
  {
   "cell_type": "code",
   "execution_count": 5,
   "id": "significant-petite",
   "metadata": {},
   "outputs": [
    {
     "ename": "NameError",
     "evalue": "name 'exp' is not defined",
     "output_type": "error",
     "traceback": [
      "\u001b[0;31m---------------------------------------------------------------------------\u001b[0m",
      "\u001b[0;31mNameError\u001b[0m                                 Traceback (most recent call last)",
      "\u001b[0;32m<ipython-input-5-6617c3d15d29>\u001b[0m in \u001b[0;36m<module>\u001b[0;34m\u001b[0m\n\u001b[1;32m      1\u001b[0m \u001b[0;31m# Generate counterfactual examples\u001b[0m\u001b[0;34m\u001b[0m\u001b[0;34m\u001b[0m\u001b[0;34m\u001b[0m\u001b[0m\n\u001b[0;32m----> 2\u001b[0;31m \u001b[0mdice_exp\u001b[0m \u001b[0;34m=\u001b[0m \u001b[0mexp\u001b[0m\u001b[0;34m.\u001b[0m\u001b[0mgenerate_counterfactuals\u001b[0m\u001b[0;34m(\u001b[0m\u001b[0mquery_instance\u001b[0m\u001b[0;34m,\u001b[0m \u001b[0mtotal_CFs\u001b[0m\u001b[0;34m=\u001b[0m\u001b[0;36m4\u001b[0m\u001b[0;34m,\u001b[0m \u001b[0mdesired_class\u001b[0m\u001b[0;34m=\u001b[0m\u001b[0;34m\"opposite\"\u001b[0m\u001b[0;34m)\u001b[0m\u001b[0;34m\u001b[0m\u001b[0;34m\u001b[0m\u001b[0m\n\u001b[0m\u001b[1;32m      3\u001b[0m \u001b[0;31m# Visualize counterfactual explanation\u001b[0m\u001b[0;34m\u001b[0m\u001b[0;34m\u001b[0m\u001b[0;34m\u001b[0m\u001b[0m\n\u001b[1;32m      4\u001b[0m \u001b[0mdice_exp\u001b[0m\u001b[0;34m.\u001b[0m\u001b[0mvisualize_as_dataframe\u001b[0m\u001b[0;34m(\u001b[0m\u001b[0;34m)\u001b[0m\u001b[0;34m\u001b[0m\u001b[0;34m\u001b[0m\u001b[0m\n",
      "\u001b[0;31mNameError\u001b[0m: name 'exp' is not defined"
     ]
    }
   ],
   "source": [
    "# Generate counterfactual examples\n",
    "dice_exp = exp.generate_counterfactuals(query_instance, total_CFs=4, desired_class=\"opposite\")\n",
    "# Visualize counterfactual explanation\n",
    "dice_exp.visualize_as_dataframe()"
   ]
  },
  {
   "cell_type": "code",
   "execution_count": null,
   "id": "painted-polls",
   "metadata": {},
   "outputs": [],
   "source": []
  },
  {
   "cell_type": "code",
   "execution_count": null,
   "id": "demanding-context",
   "metadata": {},
   "outputs": [],
   "source": []
  }
 ],
 "metadata": {
  "kernelspec": {
   "display_name": "Python 3",
   "language": "python",
   "name": "python3"
  },
  "language_info": {
   "codemirror_mode": {
    "name": "ipython",
    "version": 3
   },
   "file_extension": ".py",
   "mimetype": "text/x-python",
   "name": "python",
   "nbconvert_exporter": "python",
   "pygments_lexer": "ipython3",
   "version": "3.8.8"
  }
 },
 "nbformat": 4,
 "nbformat_minor": 5
}
