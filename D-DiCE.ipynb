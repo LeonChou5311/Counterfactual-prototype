{
 "cells": [
  {
   "cell_type": "code",
   "execution_count": 1,
   "metadata": {},
   "outputs": [],
   "source": [
    "import tensorflow as tf\n",
    "import dice_ml\n",
    "import pandas as pd\n",
    "from learning import *\n",
    "from time import time"
   ]
  },
  {
   "cell_type": "code",
   "execution_count": 2,
   "metadata": {},
   "outputs": [
    {
     "name": "stdout",
     "output_type": "stream",
     "text": [
      "Loading training data...\n",
      "====================Features====================\n",
      "['Pregnancies', 'Glucose', 'BloodPressure', 'SkinThickness', 'Insulin', 'BMI', 'DiabetesPedigreeFunction', 'Age']\n",
      "================================================\n"
     ]
    }
   ],
   "source": [
    "# Giving current root path\n",
    "PATH = \"./\"\n",
    "\n",
    "# name of dataset\n",
    "DATASET_NAME = \"diabetes.csv\"\n",
    "\n",
    "# variable containing the class labels in this case the dataset contains:\n",
    "# 0 - if not diabetes\n",
    "# 1 - if diabetes\n",
    "class_var = \"Outcome\"\n",
    "\n",
    "# load dataset\n",
    "dataset_path = PATH + \"datasets/\" + DATASET_NAME\n",
    "data = pd.read_csv( dataset_path )\n",
    "\n",
    "# features\n",
    "feature_names = data.drop([class_var], axis=1).columns.to_list()\n",
    "\n",
    "# balance dataset\n",
    "sampled_data = data.sample(frac=1)\n",
    "sampled_data = sampled_data[ sampled_data[\"Outcome\"] == 0]\n",
    "\n",
    "no_data = sampled_data.sample(frac=1)[0:268]\n",
    "yes_data = data[ data[\"Outcome\"] == 1]\n",
    "\n",
    "balanced_data = [no_data,yes_data]\n",
    "balanced_data = pd.concat(balanced_data)\n",
    "\n",
    "# apply one hot encoder to data\n",
    "# standardize the input between 0 and 1\n",
    "X, Y, encoder, scaler = encode_data( balanced_data, class_var)\n",
    "\n",
    "n_features = X.shape[1]\n",
    "n_classes = len(data[class_var].unique())\n",
    "\n",
    "# load existing training data\n",
    "print(\"Loading training data...\")\n",
    "X_train, Y_train, X_test, Y_test, X_validation, Y_validation= load_training_data( dataset_path )\n",
    "\n",
    "print(\"====================Features====================\")\n",
    "print(feature_names)\n",
    "print(\"================================================\")"
   ]
  },
  {
   "cell_type": "code",
   "execution_count": 3,
   "metadata": {},
   "outputs": [
    {
     "name": "stdout",
     "output_type": "stream",
     "text": [
      "Loading Blackbox model...\n",
      "Loaded model from disk\n",
      "Model: \"model_h5_N12\"\n",
      "_________________________________________________________________\n",
      "Layer (type)                 Output Shape              Param #   \n",
      "=================================================================\n",
      "dense_293 (Dense)            (None, 12)                108       \n",
      "_________________________________________________________________\n",
      "dense_294 (Dense)            (None, 12)                156       \n",
      "_________________________________________________________________\n",
      "dense_295 (Dense)            (None, 12)                156       \n",
      "_________________________________________________________________\n",
      "dense_296 (Dense)            (None, 12)                156       \n",
      "_________________________________________________________________\n",
      "dense_297 (Dense)            (None, 12)                156       \n",
      "_________________________________________________________________\n",
      "dense_298 (Dense)            (None, 12)                156       \n",
      "_________________________________________________________________\n",
      "dense_299 (Dense)            (None, 2)                 26        \n",
      "=================================================================\n",
      "Total params: 914\n",
      "Trainable params: 914\n",
      "Non-trainable params: 0\n",
      "_________________________________________________________________\n"
     ]
    }
   ],
   "source": [
    "# the best performing model was obtained with 5 hidden layers with 12 neurons each\n",
    "model_name = \"model_h5_N12\"\n",
    "\n",
    "# specify paths where the blackbox model was saved\n",
    "path_serialisation_model = PATH + \"training/\" + DATASET_NAME.replace(\".csv\", \"\") + \"/model/\" \n",
    "path_serialisation_histr = PATH + \"training/\" + DATASET_NAME.replace(\".csv\", \"\") + \"/history/\" \n",
    "\n",
    "# load model and model performance history\n",
    "print(\"Loading Blackbox model...\")\n",
    "model_history = load_model_history( model_name, path_serialisation_histr )\n",
    "model = load_model( model_name, path_serialisation_model )\n",
    "\n",
    "# check modelxw\n",
    "model.summary()"
   ]
  },
  {
   "cell_type": "code",
   "execution_count": 4,
   "metadata": {},
   "outputs": [],
   "source": [
    "class KeepOneValue(tf.keras.layers.Layer):\n",
    "    def __init__(self,):\n",
    "        super(KeepOneValue, self).__init__()\n",
    "\n",
    "    def call(self, inputs):\n",
    "        return inputs[:, 1:2]"
   ]
  },
  {
   "cell_type": "code",
   "execution_count": 5,
   "metadata": {},
   "outputs": [],
   "source": [
    "seq = tf.keras.Sequential(\n",
    "    [\n",
    "        model,\n",
    "        KeepOneValue(),\n",
    "    ]\n",
    ")"
   ]
  },
  {
   "cell_type": "code",
   "execution_count": 6,
   "metadata": {},
   "outputs": [],
   "source": [
    "target_name = \"Outcome\"\n",
    "feature_names = list(balanced_data.columns)\n",
    "feature_names.remove(target_name)"
   ]
  },
  {
   "cell_type": "code",
   "execution_count": 7,
   "metadata": {},
   "outputs": [],
   "source": [
    "d = dice_ml.Data(dataframe=balanced_data, continuous_features=feature_names, outcome_name=target_name)"
   ]
  },
  {
   "cell_type": "code",
   "execution_count": 8,
   "metadata": {},
   "outputs": [],
   "source": [
    "m = dice_ml.Model(model=seq, backend=\"TF2\")"
   ]
  },
  {
   "cell_type": "code",
   "execution_count": 9,
   "metadata": {},
   "outputs": [],
   "source": [
    "test_df = pd.DataFrame(X_test, columns=feature_names)\n",
    "example_idx = 2 ## Change me!!\n",
    "example_data = test_df.iloc[example_idx:example_idx+1]"
   ]
  },
  {
   "cell_type": "code",
   "execution_count": 10,
   "metadata": {},
   "outputs": [
    {
     "data": {
      "text/html": [
       "<div>\n",
       "<style scoped>\n",
       "    .dataframe tbody tr th:only-of-type {\n",
       "        vertical-align: middle;\n",
       "    }\n",
       "\n",
       "    .dataframe tbody tr th {\n",
       "        vertical-align: top;\n",
       "    }\n",
       "\n",
       "    .dataframe thead th {\n",
       "        text-align: right;\n",
       "    }\n",
       "</style>\n",
       "<table border=\"1\" class=\"dataframe\">\n",
       "  <thead>\n",
       "    <tr style=\"text-align: right;\">\n",
       "      <th></th>\n",
       "      <th>Pregnancies</th>\n",
       "      <th>Glucose</th>\n",
       "      <th>BloodPressure</th>\n",
       "      <th>SkinThickness</th>\n",
       "      <th>Insulin</th>\n",
       "      <th>BMI</th>\n",
       "      <th>DiabetesPedigreeFunction</th>\n",
       "      <th>Age</th>\n",
       "    </tr>\n",
       "  </thead>\n",
       "  <tbody>\n",
       "    <tr>\n",
       "      <th>2</th>\n",
       "      <td>0.0</td>\n",
       "      <td>0.527638</td>\n",
       "      <td>0.737705</td>\n",
       "      <td>0.0</td>\n",
       "      <td>0.0</td>\n",
       "      <td>0.441133</td>\n",
       "      <td>0.047966</td>\n",
       "      <td>0.490196</td>\n",
       "    </tr>\n",
       "  </tbody>\n",
       "</table>\n",
       "</div>"
      ],
      "text/plain": [
       "   Pregnancies   Glucose  BloodPressure  SkinThickness  Insulin       BMI  \\\n",
       "2          0.0  0.527638       0.737705            0.0      0.0  0.441133   \n",
       "\n",
       "   DiabetesPedigreeFunction       Age  \n",
       "2                  0.047966  0.490196  "
      ]
     },
     "execution_count": 10,
     "metadata": {},
     "output_type": "execute_result"
    }
   ],
   "source": [
    "example_data"
   ]
  },
  {
   "cell_type": "code",
   "execution_count": 11,
   "metadata": {},
   "outputs": [
    {
     "data": {
      "text/plain": [
       "<tf.Tensor: shape=(1, 2), dtype=float32, numpy=array([[0.6069677 , 0.39303228]], dtype=float32)>"
      ]
     },
     "execution_count": 11,
     "metadata": {},
     "output_type": "execute_result"
    }
   ],
   "source": [
    "### We can see the output value from model. Category 0 has a higher value, which means the instance has 60.6% prob of \"not having diabetes\" and 39.3% prob of \"having diabetes\".\n",
    "model(np.array(example_data))"
   ]
  },
  {
   "cell_type": "code",
   "execution_count": 12,
   "metadata": {},
   "outputs": [
    {
     "data": {
      "text/plain": [
       "<tf.Tensor: shape=(1, 1), dtype=float32, numpy=array([[0.39303228]], dtype=float32)>"
      ]
     },
     "execution_count": 12,
     "metadata": {},
     "output_type": "execute_result"
    }
   ],
   "source": [
    "### From the seq model (KeepOneValue layer added), we only get the prob of \"having diabetes\". But we can also get the prob of \"not having diabetes\" by (1 - \"having diabetes\").\n",
    "### So if we get a higher value from the seq model, the instance will have a heigher prob of \"having diabetes\". This is the arichitecture DiCE want.\n",
    "seq(np.array(example_data))"
   ]
  },
  {
   "cell_type": "code",
   "execution_count": 13,
   "metadata": {},
   "outputs": [],
   "source": [
    "exp = dice_ml.Dice(d, m)"
   ]
  },
  {
   "cell_type": "code",
   "execution_count": 14,
   "metadata": {},
   "outputs": [
    {
     "name": "stdout",
     "output_type": "stream",
     "text": [
      "Diverse Counterfactuals found! total time taken: 01 min 06 sec\n"
     ]
    }
   ],
   "source": [
    "dice_exp = exp.generate_counterfactuals(example_data, total_CFs=4, desired_class=\"opposite\", proximity_weight= 0.1, diversity_weight=2)"
   ]
  },
  {
   "cell_type": "code",
   "execution_count": 15,
   "metadata": {},
   "outputs": [
    {
     "name": "stdout",
     "output_type": "stream",
     "text": [
      "Query instance (original outcome : 0)\n"
     ]
    },
    {
     "data": {
      "text/html": [
       "<div>\n",
       "<style scoped>\n",
       "    .dataframe tbody tr th:only-of-type {\n",
       "        vertical-align: middle;\n",
       "    }\n",
       "\n",
       "    .dataframe tbody tr th {\n",
       "        vertical-align: top;\n",
       "    }\n",
       "\n",
       "    .dataframe thead th {\n",
       "        text-align: right;\n",
       "    }\n",
       "</style>\n",
       "<table border=\"1\" class=\"dataframe\">\n",
       "  <thead>\n",
       "    <tr style=\"text-align: right;\">\n",
       "      <th></th>\n",
       "      <th>Pregnancies</th>\n",
       "      <th>Glucose</th>\n",
       "      <th>BloodPressure</th>\n",
       "      <th>SkinThickness</th>\n",
       "      <th>Insulin</th>\n",
       "      <th>BMI</th>\n",
       "      <th>DiabetesPedigreeFunction</th>\n",
       "      <th>Age</th>\n",
       "      <th>Outcome</th>\n",
       "    </tr>\n",
       "  </thead>\n",
       "  <tbody>\n",
       "    <tr>\n",
       "      <th>0</th>\n",
       "      <td>0.0</td>\n",
       "      <td>1.0</td>\n",
       "      <td>1.0</td>\n",
       "      <td>0.0</td>\n",
       "      <td>0.0</td>\n",
       "      <td>0.4</td>\n",
       "      <td>0.048</td>\n",
       "      <td>0.0</td>\n",
       "      <td>0.075</td>\n",
       "    </tr>\n",
       "  </tbody>\n",
       "</table>\n",
       "</div>"
      ],
      "text/plain": [
       "   Pregnancies  Glucose  BloodPressure  SkinThickness  Insulin  BMI  \\\n",
       "0          0.0      1.0            1.0            0.0      0.0  0.4   \n",
       "\n",
       "   DiabetesPedigreeFunction  Age  Outcome  \n",
       "0                     0.048  0.0    0.075  "
      ]
     },
     "metadata": {},
     "output_type": "display_data"
    },
    {
     "name": "stdout",
     "output_type": "stream",
     "text": [
      "\n",
      "Diverse Counterfactual set (new outcome: 1.0)\n"
     ]
    },
    {
     "data": {
      "text/html": [
       "<div>\n",
       "<style scoped>\n",
       "    .dataframe tbody tr th:only-of-type {\n",
       "        vertical-align: middle;\n",
       "    }\n",
       "\n",
       "    .dataframe tbody tr th {\n",
       "        vertical-align: top;\n",
       "    }\n",
       "\n",
       "    .dataframe thead th {\n",
       "        text-align: right;\n",
       "    }\n",
       "</style>\n",
       "<table border=\"1\" class=\"dataframe\">\n",
       "  <thead>\n",
       "    <tr style=\"text-align: right;\">\n",
       "      <th></th>\n",
       "      <th>Pregnancies</th>\n",
       "      <th>Glucose</th>\n",
       "      <th>BloodPressure</th>\n",
       "      <th>SkinThickness</th>\n",
       "      <th>Insulin</th>\n",
       "      <th>BMI</th>\n",
       "      <th>DiabetesPedigreeFunction</th>\n",
       "      <th>Age</th>\n",
       "      <th>Outcome</th>\n",
       "    </tr>\n",
       "  </thead>\n",
       "  <tbody>\n",
       "    <tr>\n",
       "      <th>0</th>\n",
       "      <td>-</td>\n",
       "      <td>127.0</td>\n",
       "      <td>-</td>\n",
       "      <td>5.0</td>\n",
       "      <td>24.0</td>\n",
       "      <td>43.6</td>\n",
       "      <td>0.154</td>\n",
       "      <td>21.0</td>\n",
       "      <td>0.0</td>\n",
       "    </tr>\n",
       "    <tr>\n",
       "      <th>1</th>\n",
       "      <td>-</td>\n",
       "      <td>136.0</td>\n",
       "      <td>-</td>\n",
       "      <td>26.0</td>\n",
       "      <td>-</td>\n",
       "      <td>-</td>\n",
       "      <td>1.617</td>\n",
       "      <td>21.0</td>\n",
       "      <td>0.0</td>\n",
       "    </tr>\n",
       "    <tr>\n",
       "      <th>2</th>\n",
       "      <td>-</td>\n",
       "      <td>198.0</td>\n",
       "      <td>-</td>\n",
       "      <td>-</td>\n",
       "      <td>-</td>\n",
       "      <td>-</td>\n",
       "      <td>0.048999999999999974</td>\n",
       "      <td>21.0</td>\n",
       "      <td>0.0</td>\n",
       "    </tr>\n",
       "    <tr>\n",
       "      <th>3</th>\n",
       "      <td>-</td>\n",
       "      <td>122.0</td>\n",
       "      <td>-</td>\n",
       "      <td>99.0</td>\n",
       "      <td>-</td>\n",
       "      <td>7.6</td>\n",
       "      <td>0.048999999999999974</td>\n",
       "      <td>35.0</td>\n",
       "      <td>0.0</td>\n",
       "    </tr>\n",
       "  </tbody>\n",
       "</table>\n",
       "</div>"
      ],
      "text/plain": [
       "  Pregnancies Glucose BloodPressure SkinThickness Insulin   BMI  \\\n",
       "0           -   127.0             -           5.0    24.0  43.6   \n",
       "1           -   136.0             -          26.0       -     -   \n",
       "2           -   198.0             -             -       -     -   \n",
       "3           -   122.0             -          99.0       -   7.6   \n",
       "\n",
       "  DiabetesPedigreeFunction   Age Outcome  \n",
       "0                    0.154  21.0     0.0  \n",
       "1                    1.617  21.0     0.0  \n",
       "2     0.048999999999999974  21.0     0.0  \n",
       "3     0.048999999999999974  35.0     0.0  "
      ]
     },
     "metadata": {},
     "output_type": "display_data"
    }
   ],
   "source": [
    "###### Don't know why the couterfactual set Outcome is still 0. (Should be a bug) ######\n",
    "dice_exp.visualize_as_dataframe(show_only_changes=True, display_sparse_df=True)"
   ]
  },
  {
   "cell_type": "code",
   "execution_count": null,
   "metadata": {},
   "outputs": [],
   "source": []
  },
  {
   "cell_type": "code",
   "execution_count": null,
   "metadata": {},
   "outputs": [],
   "source": []
  }
 ],
 "metadata": {
  "kernelspec": {
   "display_name": "Python 3",
   "language": "python",
   "name": "python3"
  },
  "language_info": {
   "codemirror_mode": {
    "name": "ipython",
    "version": 3
   },
   "file_extension": ".py",
   "mimetype": "text/x-python",
   "name": "python",
   "nbconvert_exporter": "python",
   "pygments_lexer": "ipython3",
   "version": "3.8.8"
  },
  "metadata": {
   "interpreter": {
    "hash": "5c622353f32ef24c8d83e5c3e334107c074e82d7c3e8ca52c56b9fc900ce33e6"
   }
  }
 },
 "nbformat": 4,
 "nbformat_minor": 4
}
