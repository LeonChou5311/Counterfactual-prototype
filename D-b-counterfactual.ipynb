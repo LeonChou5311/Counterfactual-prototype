{
 "cells": [
  {
   "cell_type": "markdown",
   "id": "modern-backup",
   "metadata": {},
   "source": [
    "## Counterfactual Instances\n",
    "https://docs.seldon.io/projects/alibi/en/latest/methods/CF.html#Numerical-Gradients"
   ]
  },
  {
   "cell_type": "code",
   "execution_count": 1,
   "id": "pressing-federal",
   "metadata": {},
   "outputs": [
    {
     "name": "stdout",
     "output_type": "stream",
     "text": [
      "Requirement already satisfied: alibi in /opt/conda/lib/python3.8/site-packages (0.5.8)\n",
      "Requirement already satisfied: dill<0.4.0,>=0.3.0 in /opt/conda/lib/python3.8/site-packages (from alibi) (0.3.3)\n",
      "Requirement already satisfied: tensorflow<2.5.0,>=2.0.0 in /opt/conda/lib/python3.8/site-packages (from alibi) (2.4.1)\n",
      "Requirement already satisfied: requests<3.0.0,>=2.21.0 in /opt/conda/lib/python3.8/site-packages (from alibi) (2.25.1)\n",
      "Requirement already satisfied: scikit-image!=0.17.1,<0.19,>=0.14.2 in /opt/conda/lib/python3.8/site-packages (from alibi) (0.18.1)\n",
      "Requirement already satisfied: scipy<2.0.0,>=1.1.0 in /opt/conda/lib/python3.8/site-packages (from alibi) (1.6.0)\n",
      "Requirement already satisfied: scikit-learn<0.25.0,>=0.20.2 in /opt/conda/lib/python3.8/site-packages (from alibi) (0.24.1)\n",
      "Requirement already satisfied: matplotlib<4.0.0,>=3.0.0 in /opt/conda/lib/python3.8/site-packages (from alibi) (3.3.4)\n",
      "Requirement already satisfied: numpy<2.0.0,>=1.16.2 in /opt/conda/lib/python3.8/site-packages (from alibi) (1.20.3)\n",
      "Requirement already satisfied: Pillow<9.0,>=5.4.1 in /opt/conda/lib/python3.8/site-packages (from alibi) (8.1.1)\n",
      "Requirement already satisfied: spacy[lookups]<4.0.0,>=2.0.0 in /opt/conda/lib/python3.8/site-packages (from alibi) (3.0.6)\n",
      "Requirement already satisfied: attrs<21.0.0,>=19.2.0 in /opt/conda/lib/python3.8/site-packages (from alibi) (20.3.0)\n",
      "Requirement already satisfied: pandas<2.0.0,>=0.23.3 in /opt/conda/lib/python3.8/site-packages (from alibi) (1.2.3)\n",
      "Requirement already satisfied: python-dateutil>=2.1 in /opt/conda/lib/python3.8/site-packages (from matplotlib<4.0.0,>=3.0.0->alibi) (2.8.1)\n",
      "Requirement already satisfied: cycler>=0.10 in /opt/conda/lib/python3.8/site-packages (from matplotlib<4.0.0,>=3.0.0->alibi) (0.10.0)\n",
      "Requirement already satisfied: pyparsing!=2.0.4,!=2.1.2,!=2.1.6,>=2.0.3 in /opt/conda/lib/python3.8/site-packages (from matplotlib<4.0.0,>=3.0.0->alibi) (2.4.7)\n",
      "Requirement already satisfied: kiwisolver>=1.0.1 in /opt/conda/lib/python3.8/site-packages (from matplotlib<4.0.0,>=3.0.0->alibi) (1.3.1)\n",
      "Requirement already satisfied: six in /opt/conda/lib/python3.8/site-packages (from cycler>=0.10->matplotlib<4.0.0,>=3.0.0->alibi) (1.16.0)\n",
      "Requirement already satisfied: pytz>=2017.3 in /opt/conda/lib/python3.8/site-packages (from pandas<2.0.0,>=0.23.3->alibi) (2021.1)\n",
      "Requirement already satisfied: idna<3,>=2.5 in /opt/conda/lib/python3.8/site-packages (from requests<3.0.0,>=2.21.0->alibi) (2.10)\n",
      "Requirement already satisfied: chardet<5,>=3.0.2 in /opt/conda/lib/python3.8/site-packages (from requests<3.0.0,>=2.21.0->alibi) (4.0.0)\n",
      "Requirement already satisfied: certifi>=2017.4.17 in /opt/conda/lib/python3.8/site-packages (from requests<3.0.0,>=2.21.0->alibi) (2020.12.5)\n",
      "Requirement already satisfied: urllib3<1.27,>=1.21.1 in /opt/conda/lib/python3.8/site-packages (from requests<3.0.0,>=2.21.0->alibi) (1.26.3)\n",
      "Requirement already satisfied: networkx>=2.0 in /opt/conda/lib/python3.8/site-packages (from scikit-image!=0.17.1,<0.19,>=0.14.2->alibi) (2.5)\n",
      "Requirement already satisfied: imageio>=2.3.0 in /opt/conda/lib/python3.8/site-packages (from scikit-image!=0.17.1,<0.19,>=0.14.2->alibi) (2.9.0)\n",
      "Requirement already satisfied: tifffile>=2019.7.26 in /opt/conda/lib/python3.8/site-packages (from scikit-image!=0.17.1,<0.19,>=0.14.2->alibi) (2021.2.26)\n",
      "Requirement already satisfied: PyWavelets>=1.1.1 in /opt/conda/lib/python3.8/site-packages (from scikit-image!=0.17.1,<0.19,>=0.14.2->alibi) (1.1.1)\n",
      "Requirement already satisfied: decorator>=4.3.0 in /opt/conda/lib/python3.8/site-packages (from networkx>=2.0->scikit-image!=0.17.1,<0.19,>=0.14.2->alibi) (4.4.2)\n",
      "Requirement already satisfied: threadpoolctl>=2.0.0 in /opt/conda/lib/python3.8/site-packages (from scikit-learn<0.25.0,>=0.20.2->alibi) (2.1.0)\n",
      "Requirement already satisfied: joblib>=0.11 in /opt/conda/lib/python3.8/site-packages (from scikit-learn<0.25.0,>=0.20.2->alibi) (1.0.1)\n",
      "Requirement already satisfied: spacy-legacy<3.1.0,>=3.0.4 in /opt/conda/lib/python3.8/site-packages (from spacy[lookups]<4.0.0,>=2.0.0->alibi) (3.0.5)\n",
      "Requirement already satisfied: srsly<3.0.0,>=2.4.1 in /opt/conda/lib/python3.8/site-packages (from spacy[lookups]<4.0.0,>=2.0.0->alibi) (2.4.1)\n",
      "Requirement already satisfied: typer<0.4.0,>=0.3.0 in /opt/conda/lib/python3.8/site-packages (from spacy[lookups]<4.0.0,>=2.0.0->alibi) (0.3.2)\n",
      "Requirement already satisfied: blis<0.8.0,>=0.4.0 in /opt/conda/lib/python3.8/site-packages (from spacy[lookups]<4.0.0,>=2.0.0->alibi) (0.7.4)\n",
      "Requirement already satisfied: tqdm<5.0.0,>=4.38.0 in /opt/conda/lib/python3.8/site-packages (from spacy[lookups]<4.0.0,>=2.0.0->alibi) (4.58.0)\n",
      "Requirement already satisfied: catalogue<2.1.0,>=2.0.3 in /opt/conda/lib/python3.8/site-packages (from spacy[lookups]<4.0.0,>=2.0.0->alibi) (2.0.4)\n",
      "Requirement already satisfied: murmurhash<1.1.0,>=0.28.0 in /opt/conda/lib/python3.8/site-packages (from spacy[lookups]<4.0.0,>=2.0.0->alibi) (1.0.5)\n",
      "Requirement already satisfied: preshed<3.1.0,>=3.0.2 in /opt/conda/lib/python3.8/site-packages (from spacy[lookups]<4.0.0,>=2.0.0->alibi) (3.0.5)\n",
      "Requirement already satisfied: pydantic<1.8.0,>=1.7.1 in /opt/conda/lib/python3.8/site-packages (from spacy[lookups]<4.0.0,>=2.0.0->alibi) (1.7.4)\n",
      "Requirement already satisfied: wasabi<1.1.0,>=0.8.1 in /opt/conda/lib/python3.8/site-packages (from spacy[lookups]<4.0.0,>=2.0.0->alibi) (0.8.2)\n",
      "Requirement already satisfied: packaging>=20.0 in /opt/conda/lib/python3.8/site-packages (from spacy[lookups]<4.0.0,>=2.0.0->alibi) (20.9)\n",
      "Requirement already satisfied: jinja2 in /opt/conda/lib/python3.8/site-packages (from spacy[lookups]<4.0.0,>=2.0.0->alibi) (2.11.3)\n",
      "Requirement already satisfied: pathy>=0.3.5 in /opt/conda/lib/python3.8/site-packages (from spacy[lookups]<4.0.0,>=2.0.0->alibi) (0.5.2)\n",
      "Requirement already satisfied: setuptools in /opt/conda/lib/python3.8/site-packages (from spacy[lookups]<4.0.0,>=2.0.0->alibi) (49.6.0.post20210108)\n",
      "Requirement already satisfied: thinc<8.1.0,>=8.0.3 in /opt/conda/lib/python3.8/site-packages (from spacy[lookups]<4.0.0,>=2.0.0->alibi) (8.0.3)\n",
      "Requirement already satisfied: cymem<2.1.0,>=2.0.2 in /opt/conda/lib/python3.8/site-packages (from spacy[lookups]<4.0.0,>=2.0.0->alibi) (2.0.5)\n",
      "Requirement already satisfied: spacy-lookups-data<1.1.0,>=1.0.0 in /opt/conda/lib/python3.8/site-packages (from spacy[lookups]<4.0.0,>=2.0.0->alibi) (1.0.0)\n",
      "Requirement already satisfied: smart-open<4.0.0,>=2.2.0 in /opt/conda/lib/python3.8/site-packages (from pathy>=0.3.5->spacy[lookups]<4.0.0,>=2.0.0->alibi) (3.0.0)\n",
      "Requirement already satisfied: opt-einsum~=3.3.0 in /opt/conda/lib/python3.8/site-packages (from tensorflow<2.5.0,>=2.0.0->alibi) (3.3.0)\n",
      "Requirement already satisfied: termcolor~=1.1.0 in /opt/conda/lib/python3.8/site-packages (from tensorflow<2.5.0,>=2.0.0->alibi) (1.1.0)\n",
      "Requirement already satisfied: astunparse~=1.6.3 in /opt/conda/lib/python3.8/site-packages (from tensorflow<2.5.0,>=2.0.0->alibi) (1.6.3)\n",
      "Requirement already satisfied: absl-py~=0.10 in /opt/conda/lib/python3.8/site-packages (from tensorflow<2.5.0,>=2.0.0->alibi) (0.12.0)\n",
      "Requirement already satisfied: google-pasta~=0.2 in /opt/conda/lib/python3.8/site-packages (from tensorflow<2.5.0,>=2.0.0->alibi) (0.2.0)\n",
      "Requirement already satisfied: typing-extensions~=3.7.4 in /opt/conda/lib/python3.8/site-packages (from tensorflow<2.5.0,>=2.0.0->alibi) (3.7.4.3)\n",
      "Requirement already satisfied: protobuf>=3.9.2 in /opt/conda/lib/python3.8/site-packages (from tensorflow<2.5.0,>=2.0.0->alibi) (3.15.4)\n",
      "Requirement already satisfied: h5py~=2.10.0 in /opt/conda/lib/python3.8/site-packages (from tensorflow<2.5.0,>=2.0.0->alibi) (2.10.0)\n",
      "Requirement already satisfied: flatbuffers~=1.12.0 in /opt/conda/lib/python3.8/site-packages (from tensorflow<2.5.0,>=2.0.0->alibi) (1.12)\n",
      "Requirement already satisfied: tensorboard~=2.4 in /opt/conda/lib/python3.8/site-packages (from tensorflow<2.5.0,>=2.0.0->alibi) (2.4.1)\n",
      "Requirement already satisfied: gast==0.3.3 in /opt/conda/lib/python3.8/site-packages (from tensorflow<2.5.0,>=2.0.0->alibi) (0.3.3)\n",
      "Collecting numpy<2.0.0,>=1.16.2\n",
      "  Using cached numpy-1.19.5-cp38-cp38-manylinux2010_x86_64.whl (14.9 MB)\n",
      "Requirement already satisfied: keras-preprocessing~=1.1.2 in /opt/conda/lib/python3.8/site-packages (from tensorflow<2.5.0,>=2.0.0->alibi) (1.1.2)\n",
      "Requirement already satisfied: wrapt~=1.12.1 in /opt/conda/lib/python3.8/site-packages (from tensorflow<2.5.0,>=2.0.0->alibi) (1.12.1)\n",
      "Requirement already satisfied: wheel~=0.35 in /opt/conda/lib/python3.8/site-packages (from tensorflow<2.5.0,>=2.0.0->alibi) (0.36.2)\n",
      "Collecting six\n",
      "  Using cached six-1.15.0-py2.py3-none-any.whl (10 kB)\n",
      "Requirement already satisfied: grpcio~=1.32.0 in /opt/conda/lib/python3.8/site-packages (from tensorflow<2.5.0,>=2.0.0->alibi) (1.32.0)\n",
      "Requirement already satisfied: tensorflow-estimator<2.5.0,>=2.4.0 in /opt/conda/lib/python3.8/site-packages (from tensorflow<2.5.0,>=2.0.0->alibi) (2.4.0)\n",
      "Requirement already satisfied: tensorboard-plugin-wit>=1.6.0 in /opt/conda/lib/python3.8/site-packages (from tensorboard~=2.4->tensorflow<2.5.0,>=2.0.0->alibi) (1.8.0)\n",
      "Requirement already satisfied: markdown>=2.6.8 in /opt/conda/lib/python3.8/site-packages (from tensorboard~=2.4->tensorflow<2.5.0,>=2.0.0->alibi) (3.3.4)\n",
      "Requirement already satisfied: werkzeug>=0.11.15 in /opt/conda/lib/python3.8/site-packages (from tensorboard~=2.4->tensorflow<2.5.0,>=2.0.0->alibi) (1.0.1)\n",
      "Requirement already satisfied: google-auth<2,>=1.6.3 in /opt/conda/lib/python3.8/site-packages (from tensorboard~=2.4->tensorflow<2.5.0,>=2.0.0->alibi) (1.27.1)\n",
      "Requirement already satisfied: google-auth-oauthlib<0.5,>=0.4.1 in /opt/conda/lib/python3.8/site-packages (from tensorboard~=2.4->tensorflow<2.5.0,>=2.0.0->alibi) (0.4.3)\n",
      "Requirement already satisfied: pyasn1-modules>=0.2.1 in /opt/conda/lib/python3.8/site-packages (from google-auth<2,>=1.6.3->tensorboard~=2.4->tensorflow<2.5.0,>=2.0.0->alibi) (0.2.8)\n",
      "Requirement already satisfied: rsa<5,>=3.1.4 in /opt/conda/lib/python3.8/site-packages (from google-auth<2,>=1.6.3->tensorboard~=2.4->tensorflow<2.5.0,>=2.0.0->alibi) (4.7.2)\n",
      "Requirement already satisfied: cachetools<5.0,>=2.0.0 in /opt/conda/lib/python3.8/site-packages (from google-auth<2,>=1.6.3->tensorboard~=2.4->tensorflow<2.5.0,>=2.0.0->alibi) (4.2.1)\n",
      "Requirement already satisfied: requests-oauthlib>=0.7.0 in /opt/conda/lib/python3.8/site-packages (from google-auth-oauthlib<0.5,>=0.4.1->tensorboard~=2.4->tensorflow<2.5.0,>=2.0.0->alibi) (1.3.0)\n",
      "Requirement already satisfied: pyasn1<0.5.0,>=0.4.6 in /opt/conda/lib/python3.8/site-packages (from pyasn1-modules>=0.2.1->google-auth<2,>=1.6.3->tensorboard~=2.4->tensorflow<2.5.0,>=2.0.0->alibi) (0.4.8)\n",
      "Requirement already satisfied: oauthlib>=3.0.0 in /opt/conda/lib/python3.8/site-packages (from requests-oauthlib>=0.7.0->google-auth-oauthlib<0.5,>=0.4.1->tensorboard~=2.4->tensorflow<2.5.0,>=2.0.0->alibi) (3.0.1)\n",
      "Requirement already satisfied: click<7.2.0,>=7.1.1 in /opt/conda/lib/python3.8/site-packages (from typer<0.4.0,>=0.3.0->spacy[lookups]<4.0.0,>=2.0.0->alibi) (7.1.2)\n",
      "Requirement already satisfied: MarkupSafe>=0.23 in /opt/conda/lib/python3.8/site-packages (from jinja2->spacy[lookups]<4.0.0,>=2.0.0->alibi) (1.1.1)\n",
      "Installing collected packages: six, numpy\n",
      "  Attempting uninstall: six\n",
      "    Found existing installation: six 1.16.0\n",
      "    Uninstalling six-1.16.0:\n",
      "      Successfully uninstalled six-1.16.0\n",
      "  Attempting uninstall: numpy\n",
      "    Found existing installation: numpy 1.20.3\n",
      "    Uninstalling numpy-1.20.3:\n",
      "      Successfully uninstalled numpy-1.20.3\n",
      "Successfully installed numpy-1.19.5 six-1.15.0\n"
     ]
    }
   ],
   "source": [
    "!pip install alibi"
   ]
  },
  {
   "cell_type": "code",
   "execution_count": 2,
   "id": "married-providence",
   "metadata": {},
   "outputs": [
    {
     "ename": "RuntimeError",
     "evalue": "module compiled against API version 0xe but this version of numpy is 0xd",
     "output_type": "error",
     "traceback": [
      "\u001b[0;31m---------------------------------------------------------------------------\u001b[0m",
      "\u001b[0;31mRuntimeError\u001b[0m                              Traceback (most recent call last)",
      "\u001b[0;31mRuntimeError\u001b[0m: module compiled against API version 0xe but this version of numpy is 0xd"
     ]
    },
    {
     "name": "stdout",
     "output_type": "stream",
     "text": [
      "TF version:  2.4.1\n",
      "Eager execution enabled:  False\n"
     ]
    }
   ],
   "source": [
    "import tensorflow as tf\n",
    "tf.get_logger().setLevel(40) # suppress deprecation messages\n",
    "tf.compat.v1.disable_v2_behavior() # disable TF2 behaviour as alibi code still relies on TF1 constructs\n",
    "from tensorflow.keras.layers import Dense, Input\n",
    "from tensorflow.keras.models import Model, load_model\n",
    "from tensorflow.keras.utils import to_categorical\n",
    "import matplotlib\n",
    "%matplotlib inline\n",
    "import matplotlib.pyplot as plt\n",
    "import numpy as np\n",
    "import os\n",
    "from sklearn.datasets import load_boston\n",
    "from alibi.explainers import CounterFactualProto, CounterFactual\n",
    "import pandas as pd\n",
    "from learning import *\n",
    "from time import time\n",
    "\n",
    "print('TF version: ', tf.__version__)\n",
    "print('Eager execution enabled: ', tf.executing_eagerly()) # False\n",
    "seed = 123\n",
    "tf.random.set_seed(seed)\n",
    "np.random.seed(seed)"
   ]
  },
  {
   "cell_type": "markdown",
   "id": "threaded-metropolitan",
   "metadata": {},
   "source": [
    "# Install alibi"
   ]
  },
  {
   "cell_type": "code",
   "execution_count": 3,
   "id": "isolated-buyer",
   "metadata": {},
   "outputs": [
    {
     "name": "stdout",
     "output_type": "stream",
     "text": [
      "Collecting h5py==2.10.0\n",
      "  Using cached h5py-2.10.0-cp38-cp38-manylinux1_x86_64.whl (2.9 MB)\n",
      "Collecting six\n",
      "  Using cached six-1.16.0-py2.py3-none-any.whl (11 kB)\n",
      "Collecting numpy>=1.7\n",
      "  Using cached numpy-1.20.3-cp38-cp38-manylinux_2_12_x86_64.manylinux2010_x86_64.whl (15.4 MB)\n",
      "Installing collected packages: six, numpy, h5py\n",
      "  Attempting uninstall: six\n",
      "    Found existing installation: six 1.15.0\n",
      "    Uninstalling six-1.15.0:\n",
      "      Successfully uninstalled six-1.15.0\n",
      "  Attempting uninstall: numpy\n",
      "    Found existing installation: numpy 1.19.5\n",
      "    Uninstalling numpy-1.19.5:\n",
      "      Successfully uninstalled numpy-1.19.5\n",
      "  Attempting uninstall: h5py\n",
      "    Found existing installation: h5py 2.10.0\n",
      "    Uninstalling h5py-2.10.0:\n",
      "      Successfully uninstalled h5py-2.10.0\n",
      "\u001b[31mERROR: pip's dependency resolver does not currently take into account all the packages that are installed. This behaviour is the source of the following dependency conflicts.\n",
      "tensorflow 2.4.1 requires numpy~=1.19.2, but you have numpy 1.20.3 which is incompatible.\n",
      "tensorflow 2.4.1 requires six~=1.15.0, but you have six 1.16.0 which is incompatible.\u001b[0m\n",
      "Successfully installed h5py-2.10.0 numpy-1.20.3 six-1.16.0\n"
     ]
    }
   ],
   "source": [
    "## Removing str encoding error.\n",
    "!python3 -m pip install 'h5py==2.10.0' --force-reinstall"
   ]
  },
  {
   "cell_type": "markdown",
   "id": "assured-tuning",
   "metadata": {},
   "source": [
    "# Load Diabetes dataset"
   ]
  },
  {
   "cell_type": "code",
   "execution_count": 4,
   "id": "fifty-concert",
   "metadata": {},
   "outputs": [
    {
     "name": "stdout",
     "output_type": "stream",
     "text": [
      "Loading training data...\n",
      "====================Features====================\n",
      "['Pregnancies', 'Glucose', 'BloodPressure', 'SkinThickness', 'Insulin', 'BMI', 'DiabetesPedigreeFunction', 'Age']\n",
      "================================================\n"
     ]
    }
   ],
   "source": [
    "# Giving current root path\n",
    "PATH = \"./\"\n",
    "\n",
    "# name of dataset\n",
    "DATASET_NAME = \"diabetes.csv\"\n",
    "\n",
    "# variable containing the class labels in this case the dataset contains:\n",
    "# 0 - if not diabetes\n",
    "# 1 - if diabetes\n",
    "class_var = \"Outcome\"\n",
    "\n",
    "# load dataset\n",
    "dataset_path = PATH + \"datasets/\" + DATASET_NAME\n",
    "data = pd.read_csv( dataset_path )\n",
    "\n",
    "# features\n",
    "feature_names = data.drop([class_var], axis=1).columns.to_list()\n",
    "\n",
    "# balance dataset\n",
    "sampled_data = data.sample(frac=1)\n",
    "sampled_data = sampled_data[ sampled_data[\"Outcome\"] == 0]\n",
    "\n",
    "no_data = sampled_data.sample(frac=1)[0:268]\n",
    "yes_data = data[ data[\"Outcome\"] == 1]\n",
    "\n",
    "balanced_data = [no_data,yes_data]\n",
    "balanced_data = pd.concat(balanced_data)\n",
    "\n",
    "# apply one hot encoder to data\n",
    "# standardize the input between 0 and 1\n",
    "X, Y, encoder, scaler = encode_data( balanced_data, class_var)\n",
    "\n",
    "n_features = X.shape[1]\n",
    "n_classes = len(data[class_var].unique())\n",
    "\n",
    "# load existing training data\n",
    "print(\"Loading training data...\")\n",
    "X_train, Y_train, X_test, Y_test, X_validation, Y_validation= load_training_data( dataset_path )\n",
    "\n",
    "print(\"====================Features====================\")\n",
    "print(feature_names)\n",
    "print(\"================================================\")"
   ]
  },
  {
   "cell_type": "markdown",
   "id": "abstract-snapshot",
   "metadata": {},
   "source": [
    "# Load trained model"
   ]
  },
  {
   "cell_type": "code",
   "execution_count": 5,
   "id": "unsigned-family",
   "metadata": {},
   "outputs": [
    {
     "name": "stdout",
     "output_type": "stream",
     "text": [
      "Loading Blackbox model...\n",
      "Loaded model from disk\n",
      "Model: \"model_h5_N12\"\n",
      "_________________________________________________________________\n",
      "Layer (type)                 Output Shape              Param #   \n",
      "=================================================================\n",
      "dense_293 (Dense)            (None, 12)                108       \n",
      "_________________________________________________________________\n",
      "dense_294 (Dense)            (None, 12)                156       \n",
      "_________________________________________________________________\n",
      "dense_295 (Dense)            (None, 12)                156       \n",
      "_________________________________________________________________\n",
      "dense_296 (Dense)            (None, 12)                156       \n",
      "_________________________________________________________________\n",
      "dense_297 (Dense)            (None, 12)                156       \n",
      "_________________________________________________________________\n",
      "dense_298 (Dense)            (None, 12)                156       \n",
      "_________________________________________________________________\n",
      "dense_299 (Dense)            (None, 2)                 26        \n",
      "=================================================================\n",
      "Total params: 914\n",
      "Trainable params: 914\n",
      "Non-trainable params: 0\n",
      "_________________________________________________________________\n"
     ]
    }
   ],
   "source": [
    "# the best performing model was obtained with 5 hidden layers with 12 neurons each\n",
    "model_name = \"model_h5_N12\"\n",
    "\n",
    "# specify paths where the blackbox model was saved\n",
    "path_serialisation_model = PATH + \"training/\" + DATASET_NAME.replace(\".csv\", \"\") + \"/model/\" \n",
    "path_serialisation_histr = PATH + \"training/\" + DATASET_NAME.replace(\".csv\", \"\") + \"/history/\" \n",
    "\n",
    "# load model and model performance history\n",
    "print(\"Loading Blackbox model...\")\n",
    "model_history = load_model_history( model_name, path_serialisation_histr )\n",
    "model = load_model( model_name, path_serialisation_model )\n",
    "\n",
    "# check modelxw\n",
    "model.summary()"
   ]
  },
  {
   "cell_type": "code",
   "execution_count": 6,
   "id": "contained-village",
   "metadata": {},
   "outputs": [],
   "source": [
    "## Dentermine the feature range by training set.\n",
    "diabetes_feature_range = (X_train.min(axis=0), X_train.max(axis=0))"
   ]
  },
  {
   "cell_type": "code",
   "execution_count": 8,
   "id": "handy-ambassador",
   "metadata": {},
   "outputs": [
    {
     "data": {
      "text/html": [
       "<div>\n",
       "<style scoped>\n",
       "    .dataframe tbody tr th:only-of-type {\n",
       "        vertical-align: middle;\n",
       "    }\n",
       "\n",
       "    .dataframe tbody tr th {\n",
       "        vertical-align: top;\n",
       "    }\n",
       "\n",
       "    .dataframe thead th {\n",
       "        text-align: right;\n",
       "    }\n",
       "</style>\n",
       "<table border=\"1\" class=\"dataframe\">\n",
       "  <thead>\n",
       "    <tr style=\"text-align: right;\">\n",
       "      <th></th>\n",
       "      <th>Pregnancies</th>\n",
       "      <th>Glucose</th>\n",
       "      <th>BloodPressure</th>\n",
       "      <th>SkinThickness</th>\n",
       "      <th>Insulin</th>\n",
       "      <th>BMI</th>\n",
       "      <th>DiabetesPedigreeFunction</th>\n",
       "      <th>Age</th>\n",
       "      <th>Outcome</th>\n",
       "    </tr>\n",
       "  </thead>\n",
       "  <tbody>\n",
       "    <tr>\n",
       "      <th>0</th>\n",
       "      <td>6</td>\n",
       "      <td>148</td>\n",
       "      <td>72</td>\n",
       "      <td>35</td>\n",
       "      <td>0</td>\n",
       "      <td>33.6</td>\n",
       "      <td>0.627</td>\n",
       "      <td>50</td>\n",
       "      <td>1</td>\n",
       "    </tr>\n",
       "    <tr>\n",
       "      <th>1</th>\n",
       "      <td>1</td>\n",
       "      <td>85</td>\n",
       "      <td>66</td>\n",
       "      <td>29</td>\n",
       "      <td>0</td>\n",
       "      <td>26.6</td>\n",
       "      <td>0.351</td>\n",
       "      <td>31</td>\n",
       "      <td>0</td>\n",
       "    </tr>\n",
       "    <tr>\n",
       "      <th>2</th>\n",
       "      <td>8</td>\n",
       "      <td>183</td>\n",
       "      <td>64</td>\n",
       "      <td>0</td>\n",
       "      <td>0</td>\n",
       "      <td>23.3</td>\n",
       "      <td>0.672</td>\n",
       "      <td>32</td>\n",
       "      <td>1</td>\n",
       "    </tr>\n",
       "    <tr>\n",
       "      <th>3</th>\n",
       "      <td>1</td>\n",
       "      <td>89</td>\n",
       "      <td>66</td>\n",
       "      <td>23</td>\n",
       "      <td>94</td>\n",
       "      <td>28.1</td>\n",
       "      <td>0.167</td>\n",
       "      <td>21</td>\n",
       "      <td>0</td>\n",
       "    </tr>\n",
       "    <tr>\n",
       "      <th>4</th>\n",
       "      <td>0</td>\n",
       "      <td>137</td>\n",
       "      <td>40</td>\n",
       "      <td>35</td>\n",
       "      <td>168</td>\n",
       "      <td>43.1</td>\n",
       "      <td>2.288</td>\n",
       "      <td>33</td>\n",
       "      <td>1</td>\n",
       "    </tr>\n",
       "    <tr>\n",
       "      <th>...</th>\n",
       "      <td>...</td>\n",
       "      <td>...</td>\n",
       "      <td>...</td>\n",
       "      <td>...</td>\n",
       "      <td>...</td>\n",
       "      <td>...</td>\n",
       "      <td>...</td>\n",
       "      <td>...</td>\n",
       "      <td>...</td>\n",
       "    </tr>\n",
       "    <tr>\n",
       "      <th>763</th>\n",
       "      <td>10</td>\n",
       "      <td>101</td>\n",
       "      <td>76</td>\n",
       "      <td>48</td>\n",
       "      <td>180</td>\n",
       "      <td>32.9</td>\n",
       "      <td>0.171</td>\n",
       "      <td>63</td>\n",
       "      <td>0</td>\n",
       "    </tr>\n",
       "    <tr>\n",
       "      <th>764</th>\n",
       "      <td>2</td>\n",
       "      <td>122</td>\n",
       "      <td>70</td>\n",
       "      <td>27</td>\n",
       "      <td>0</td>\n",
       "      <td>36.8</td>\n",
       "      <td>0.340</td>\n",
       "      <td>27</td>\n",
       "      <td>0</td>\n",
       "    </tr>\n",
       "    <tr>\n",
       "      <th>765</th>\n",
       "      <td>5</td>\n",
       "      <td>121</td>\n",
       "      <td>72</td>\n",
       "      <td>23</td>\n",
       "      <td>112</td>\n",
       "      <td>26.2</td>\n",
       "      <td>0.245</td>\n",
       "      <td>30</td>\n",
       "      <td>0</td>\n",
       "    </tr>\n",
       "    <tr>\n",
       "      <th>766</th>\n",
       "      <td>1</td>\n",
       "      <td>126</td>\n",
       "      <td>60</td>\n",
       "      <td>0</td>\n",
       "      <td>0</td>\n",
       "      <td>30.1</td>\n",
       "      <td>0.349</td>\n",
       "      <td>47</td>\n",
       "      <td>1</td>\n",
       "    </tr>\n",
       "    <tr>\n",
       "      <th>767</th>\n",
       "      <td>1</td>\n",
       "      <td>93</td>\n",
       "      <td>70</td>\n",
       "      <td>31</td>\n",
       "      <td>0</td>\n",
       "      <td>30.4</td>\n",
       "      <td>0.315</td>\n",
       "      <td>23</td>\n",
       "      <td>0</td>\n",
       "    </tr>\n",
       "  </tbody>\n",
       "</table>\n",
       "<p>768 rows × 9 columns</p>\n",
       "</div>"
      ],
      "text/plain": [
       "     Pregnancies  Glucose  BloodPressure  SkinThickness  Insulin   BMI  \\\n",
       "0              6      148             72             35        0  33.6   \n",
       "1              1       85             66             29        0  26.6   \n",
       "2              8      183             64              0        0  23.3   \n",
       "3              1       89             66             23       94  28.1   \n",
       "4              0      137             40             35      168  43.1   \n",
       "..           ...      ...            ...            ...      ...   ...   \n",
       "763           10      101             76             48      180  32.9   \n",
       "764            2      122             70             27        0  36.8   \n",
       "765            5      121             72             23      112  26.2   \n",
       "766            1      126             60              0        0  30.1   \n",
       "767            1       93             70             31        0  30.4   \n",
       "\n",
       "     DiabetesPedigreeFunction  Age  Outcome  \n",
       "0                       0.627   50        1  \n",
       "1                       0.351   31        0  \n",
       "2                       0.672   32        1  \n",
       "3                       0.167   21        0  \n",
       "4                       2.288   33        1  \n",
       "..                        ...  ...      ...  \n",
       "763                     0.171   63        0  \n",
       "764                     0.340   27        0  \n",
       "765                     0.245   30        0  \n",
       "766                     0.349   47        1  \n",
       "767                     0.315   23        0  \n",
       "\n",
       "[768 rows x 9 columns]"
      ]
     },
     "execution_count": 8,
     "metadata": {},
     "output_type": "execute_result"
    }
   ],
   "source": [
    "data"
   ]
  },
  {
   "cell_type": "code",
   "execution_count": 9,
   "id": "fresh-disaster",
   "metadata": {},
   "outputs": [],
   "source": [
    "## Get an example instance from test set.\n",
    "example_idx = 0 ## Could be change!!\n",
    "example_data = np.expand_dims(X_test[example_idx], axis=0)"
   ]
  },
  {
   "cell_type": "code",
   "execution_count": 10,
   "id": "inclusive-completion",
   "metadata": {},
   "outputs": [
    {
     "name": "stderr",
     "output_type": "stream",
     "text": [
      "`Model.state_updates` will be removed in a future version. This property should not be used in TensorFlow 2.0, as `updates` are applied automatically.\n"
     ]
    }
   ],
   "source": [
    "cf_b = CounterFactual(model, example_data.shape, distance_fn='l1', target_proba=1.0,\n",
    "                    target_class='other', max_iter=1000, early_stop=50, lam_init=1e-1,\n",
    "                    max_lam_steps=10, tol=0.05, learning_rate_init=0.1,\n",
    "                    feature_range=diabetes_feature_range, eps=0.01, init='identity',\n",
    "                    decay=True, write_dir=None, debug=False)"
   ]
  },
  {
   "cell_type": "code",
   "execution_count": 11,
   "id": "broad-destination",
   "metadata": {},
   "outputs": [
    {
     "name": "stdout",
     "output_type": "stream",
     "text": [
      "Explanation took 10.021 sec\n"
     ]
    }
   ],
   "source": [
    "start_time = time()\n",
    "explanation_b = cf_b.explain(example_data)\n",
    "print('Explanation took {:.3f} sec'.format(time() - start_time))"
   ]
  },
  {
   "cell_type": "code",
   "execution_count": 12,
   "id": "disturbed-heather",
   "metadata": {},
   "outputs": [],
   "source": [
    "def log_cf_found(data, scaler, explanation):\n",
    "    '''\n",
    "    Function for generating measuring the difference btw original instance and counterfactual.\n",
    "    '''\n",
    "    print(\"================================================\")    \n",
    "    print(f'Original prediction: {explanation.orig_class}')\n",
    "    print('Counterfactual prediction: {}'.format(explanation.cf['class']))\n",
    "    print(\"================================================\")    \n",
    "    pred_class = explanation.cf['class']\n",
    "    proba = explanation.cf['proba'][0][pred_class]\n",
    "    print(f'Counterfactual prediction: {pred_class} with probability {proba}')\n",
    "    print(\"================================================\")    \n",
    "    orig =  scaler.inverse_transform(data)\n",
    "    counterfactual = scaler.inverse_transform(explanation.cf['X'])\n",
    "    print(counterfactual)\n",
    "    delta = counterfactual - orig\n",
    "    for i, f in enumerate(feature_names):\n",
    "        if np.abs(delta[0][i]) > 1e-4:\n",
    "            print('{}: {}'.format(f, delta[0][i]))\n",
    "    print(\"================================================\")    \n",
    "    "
   ]
  },
  {
   "cell_type": "code",
   "execution_count": null,
   "id": "disturbed-burlington",
   "metadata": {},
   "outputs": [],
   "source": []
  },
  {
   "cell_type": "code",
   "execution_count": 13,
   "id": "subsequent-processor",
   "metadata": {},
   "outputs": [
    {
     "data": {
      "text/plain": [
       "array([[1.00000000e+00, 1.89000000e+02, 5.60655738e+01, 2.30000000e+01,\n",
       "        8.46000000e+02, 3.01000000e+01, 3.91938330e-01, 5.90000000e+01]])"
      ]
     },
     "execution_count": 13,
     "metadata": {},
     "output_type": "execute_result"
    }
   ],
   "source": [
    "counterfactual = scaler.inverse_transform(example_data)\n",
    "counterfactual"
   ]
  },
  {
   "cell_type": "code",
   "execution_count": 14,
   "id": "friendly-estimate",
   "metadata": {},
   "outputs": [
    {
     "name": "stdout",
     "output_type": "stream",
     "text": [
      "================================================\n",
      "Original prediction: 1\n",
      "Counterfactual prediction: 0\n",
      "================================================\n",
      "Counterfactual prediction: 0 with probability 0.9502091407775879\n",
      "================================================\n",
      "[[  0.9848623 188.46289     0.          0.        179.63701    30.110416\n",
      "    0.3963714  72.       ]]\n",
      "Pregnancies: -0.015137672424316628\n",
      "Glucose: -0.5371093749999432\n",
      "BloodPressure: -56.06557377049181\n",
      "SkinThickness: -23.0\n",
      "Insulin: -666.3629913330078\n",
      "BMI: 0.010416412353517757\n",
      "DiabetesPedigreeFunction: 0.004433064631374273\n",
      "Age: 13.000000000000007\n",
      "================================================\n"
     ]
    }
   ],
   "source": [
    "log_cf_found(example_data, scaler, explanation_b)"
   ]
  },
  {
   "cell_type": "code",
   "execution_count": 15,
   "id": "revolutionary-service",
   "metadata": {},
   "outputs": [
    {
     "data": {
      "text/plain": [
       "array([[0.05882353, 0.94974874, 0.49180328, 0.23232323, 1.        ,\n",
       "        0.4485842 , 0.13404711, 0.74509804]])"
      ]
     },
     "execution_count": 15,
     "metadata": {},
     "output_type": "execute_result"
    }
   ],
   "source": [
    "example_data"
   ]
  }
 ],
 "metadata": {
  "kernelspec": {
   "display_name": "Python 3",
   "language": "python",
   "name": "python3"
  },
  "language_info": {
   "codemirror_mode": {
    "name": "ipython",
    "version": 3
   },
   "file_extension": ".py",
   "mimetype": "text/x-python",
   "name": "python",
   "nbconvert_exporter": "python",
   "pygments_lexer": "ipython3",
   "version": "3.8.8"
  }
 },
 "nbformat": 4,
 "nbformat_minor": 5
}
